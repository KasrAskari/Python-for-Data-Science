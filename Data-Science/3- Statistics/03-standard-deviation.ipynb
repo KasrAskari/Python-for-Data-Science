{
 "cells": [
  {
   "cell_type": "code",
   "execution_count": 1,
   "id": "fb914e00",
   "metadata": {},
   "outputs": [],
   "source": [
    "import numpy as np\n",
    "import pandas as pd"
   ]
  },
  {
   "cell_type": "markdown",
   "id": "8a17f8ee",
   "metadata": {},
   "source": [
    "### Standard Deviation\n",
    "Standard deviation is a number that describes how spread out the observations are.\n",
    "\n",
    "A mathematical function will have difficulties in predicting precise values, if the observations are \"spread\". Standard deviation is a measure of uncertainty.\n",
    "\n",
    "A low standard deviation means that most of the numbers are close to the mean (average) value.\n",
    "\n",
    "A high standard deviation means that the values are spread out over a wider range."
   ]
  },
  {
   "cell_type": "markdown",
   "id": "304f0123",
   "metadata": {},
   "source": [
    "*We can use the std() function from Numpy to find the standard deviation of a variable:*"
   ]
  },
  {
   "cell_type": "code",
   "execution_count": 2,
   "id": "46e22c22",
   "metadata": {},
   "outputs": [
    {
     "name": "stdout",
     "output_type": "stream",
     "text": [
      "Duration            42.862432\n",
      "Average_Pulse       14.580131\n",
      "Max_Pulse           16.353571\n",
      "Calorie_Burnage    273.384624\n",
      "Hours_Work           3.911718\n",
      "Hours_Sleep          0.661895\n",
      "dtype: float64\n"
     ]
    },
    {
     "name": "stderr",
     "output_type": "stream",
     "text": [
      "c:\\Users\\Asus\\ML-sandbox\\mymlvenv\\Lib\\site-packages\\numpy\\_core\\fromnumeric.py:3800: FutureWarning: The behavior of DataFrame.std with axis=None is deprecated, in a future version this will reduce over both axes and return a scalar. To retain the old behavior, pass axis=0 (or do not pass axis)\n",
      "  return std(axis=axis, dtype=dtype, out=out, ddof=ddof, **kwargs)\n"
     ]
    }
   ],
   "source": [
    "full_health_data = pd.read_csv(\"data.csv\", header=0, sep=\",\")\n",
    "\n",
    "std = np.std(full_health_data)\n",
    "\n",
    "print(std)"
   ]
  },
  {
   "cell_type": "markdown",
   "id": "1e69fb4c",
   "metadata": {},
   "source": [
    "### Coefficient of Variation\n",
    "The coefficient of variation is used to get an idea of how large the standard deviation is.\n",
    "\n",
    "Mathematically, the coefficient of variation is defined as:\n",
    "\n",
    "Coefficient of Variation = Standard Deviation / Mean\n",
    "\n",
    "We can do this in Python if we proceed with the following code:"
   ]
  },
  {
   "cell_type": "code",
   "execution_count": 7,
   "id": "0ebf1cd9",
   "metadata": {},
   "outputs": [
    {
     "name": "stdout",
     "output_type": "stream",
     "text": [
      "Duration           0.367051\n",
      "Average_Pulse      0.124857\n",
      "Max_Pulse          0.140043\n",
      "Calorie_Burnage    2.341122\n",
      "Hours_Work         0.033498\n",
      "Hours_Sleep        0.005668\n",
      "dtype: float64\n"
     ]
    },
    {
     "name": "stderr",
     "output_type": "stream",
     "text": [
      "c:\\Users\\Asus\\ML-sandbox\\mymlvenv\\Lib\\site-packages\\numpy\\_core\\fromnumeric.py:3800: FutureWarning: The behavior of DataFrame.std with axis=None is deprecated, in a future version this will reduce over both axes and return a scalar. To retain the old behavior, pass axis=0 (or do not pass axis)\n",
      "  return std(axis=axis, dtype=dtype, out=out, ddof=ddof, **kwargs)\n"
     ]
    }
   ],
   "source": [
    "full_health_data = pd.read_csv(\"data.csv\", header=0, sep=\",\")\n",
    "\n",
    "cv = np.std(full_health_data) / np.mean(full_health_data)\n",
    "\n",
    "print(cv)"
   ]
  }
 ],
 "metadata": {
  "kernelspec": {
   "display_name": "mymlvenv",
   "language": "python",
   "name": "python3"
  },
  "language_info": {
   "codemirror_mode": {
    "name": "ipython",
    "version": 3
   },
   "file_extension": ".py",
   "mimetype": "text/x-python",
   "name": "python",
   "nbconvert_exporter": "python",
   "pygments_lexer": "ipython3",
   "version": "3.12.1"
  }
 },
 "nbformat": 4,
 "nbformat_minor": 5
}
