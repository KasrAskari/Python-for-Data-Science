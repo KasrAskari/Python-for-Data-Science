{
 "cells": [
  {
   "cell_type": "code",
   "execution_count": 1,
   "id": "d8b3b653",
   "metadata": {},
   "outputs": [],
   "source": [
    "import numpy as np\n",
    "import pandas as pd"
   ]
  },
  {
   "cell_type": "markdown",
   "id": "9434a572",
   "metadata": {},
   "source": [
    "## Variance\n",
    "\n",
    "Variance is another number that indicates how spread out the values are.\n",
    "\n",
    "In fact, if you take the square root of the variance, you get the standard deviation. Or the other way around, if you multiply the standard deviation by itself, you get the variance!"
   ]
  },
  {
   "cell_type": "markdown",
   "id": "b7ff08fa",
   "metadata": {},
   "source": [
    "### Step 1 to Calculate the Variance: Find the Mean\n",
    "\n",
    "### Step 2: For Each Value - Find the Difference From the Mean\n",
    "\n",
    "### Step 3: For Each Difference - Find the Square Value\n",
    "\n",
    "### Step 4: The Variance is the Average Number of These Squared Values"
   ]
  },
  {
   "cell_type": "markdown",
   "id": "1a004a80",
   "metadata": {},
   "source": [
    "### Use Python to Find the Variance"
   ]
  },
  {
   "cell_type": "code",
   "execution_count": 3,
   "id": "ae9823f5",
   "metadata": {},
   "outputs": [
    {
     "name": "stdout",
     "output_type": "stream",
     "text": [
      "Duration            99.00\n",
      "Average_Pulse      206.25\n",
      "Max_Pulse          116.00\n",
      "Calorie_Burnage    825.00\n",
      "Hours_Work          11.84\n",
      "Hours_Sleep          0.25\n",
      "dtype: float64\n"
     ]
    },
    {
     "name": "stderr",
     "output_type": "stream",
     "text": [
      "c:\\Users\\Asus\\ML-sandbox\\mymlvenv\\Lib\\site-packages\\numpy\\_core\\fromnumeric.py:4006: FutureWarning: The behavior of DataFrame.var with axis=None is deprecated, in a future version this will reduce over both axes and return a scalar. To retain the old behavior, pass axis=0 (or do not pass axis)\n",
      "  return var(axis=axis, dtype=dtype, out=out, ddof=ddof, **kwargs)\n"
     ]
    }
   ],
   "source": [
    "health_data = pd.read_csv(\"data.csv\", header=0, sep=\",\")\n",
    "\n",
    "var = np.var(health_data)\n",
    "\n",
    "print(var)"
   ]
  },
  {
   "cell_type": "markdown",
   "id": "de311468",
   "metadata": {},
   "source": [
    "### Find the Variance of Full Data Set"
   ]
  },
  {
   "cell_type": "code",
   "execution_count": 5,
   "id": "80610dff",
   "metadata": {},
   "outputs": [
    {
     "name": "stdout",
     "output_type": "stream",
     "text": [
      "Duration            1837.188076\n",
      "Average_Pulse        212.580225\n",
      "Max_Pulse            267.439271\n",
      "Calorie_Burnage    74739.152847\n",
      "Hours_Work            15.301536\n",
      "Hours_Sleep            0.438105\n",
      "dtype: float64\n"
     ]
    },
    {
     "name": "stderr",
     "output_type": "stream",
     "text": [
      "c:\\Users\\Asus\\ML-sandbox\\mymlvenv\\Lib\\site-packages\\numpy\\_core\\fromnumeric.py:4006: FutureWarning: The behavior of DataFrame.var with axis=None is deprecated, in a future version this will reduce over both axes and return a scalar. To retain the old behavior, pass axis=0 (or do not pass axis)\n",
      "  return var(axis=axis, dtype=dtype, out=out, ddof=ddof, **kwargs)\n"
     ]
    }
   ],
   "source": [
    "full_health_data = pd.read_csv(\"data.csv\", header=0, sep=\",\")\n",
    "\n",
    "var = np.var(full_health_data)\n",
    "\n",
    "print(var)"
   ]
  }
 ],
 "metadata": {
  "kernelspec": {
   "display_name": "mymlvenv",
   "language": "python",
   "name": "python3"
  },
  "language_info": {
   "codemirror_mode": {
    "name": "ipython",
    "version": 3
   },
   "file_extension": ".py",
   "mimetype": "text/x-python",
   "name": "python",
   "nbconvert_exporter": "python",
   "pygments_lexer": "ipython3",
   "version": "3.12.1"
  }
 },
 "nbformat": 4,
 "nbformat_minor": 5
}
