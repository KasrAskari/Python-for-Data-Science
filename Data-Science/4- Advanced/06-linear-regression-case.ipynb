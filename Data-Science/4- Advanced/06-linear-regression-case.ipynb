{
 "cells": [
  {
   "cell_type": "code",
   "execution_count": 2,
   "id": "8c1cb430",
   "metadata": {},
   "outputs": [],
   "source": [
    "import pandas as pd\n",
    "import statsmodels.formula.api as smf"
   ]
  },
  {
   "cell_type": "markdown",
   "id": "7ffbbc18",
   "metadata": {},
   "source": [
    "## Case: Use Duration + Average_Pulse to Predict Calorie_Burnage"
   ]
  },
  {
   "cell_type": "code",
   "execution_count": 3,
   "id": "84be5dd3",
   "metadata": {},
   "outputs": [
    {
     "name": "stdout",
     "output_type": "stream",
     "text": [
      "                            OLS Regression Results                            \n",
      "==============================================================================\n",
      "Dep. Variable:        Calorie_Burnage   R-squared:                       0.816\n",
      "Model:                            OLS   Adj. R-squared:                  0.814\n",
      "Method:                 Least Squares   F-statistic:                     355.8\n",
      "Date:                Wed, 23 Jul 2025   Prob (F-statistic):           1.27e-59\n",
      "Time:                        13:17:27   Log-Likelihood:                -1007.7\n",
      "No. Observations:                 163   AIC:                             2021.\n",
      "Df Residuals:                     160   BIC:                             2031.\n",
      "Df Model:                           2                                         \n",
      "Covariance Type:            nonrobust                                         \n",
      "=================================================================================\n",
      "                    coef    std err          t      P>|t|      [0.025      0.975]\n",
      "---------------------------------------------------------------------------------\n",
      "Intercept      -334.5194     73.616     -4.544      0.000    -479.904    -189.135\n",
      "Average_Pulse     3.1695      0.644      4.922      0.000       1.898       4.441\n",
      "Duration          5.8424      0.219     26.671      0.000       5.410       6.275\n",
      "==============================================================================\n",
      "Omnibus:                      160.167   Durbin-Watson:                   2.339\n",
      "Prob(Omnibus):                  0.000   Jarque-Bera (JB):             5096.292\n",
      "Skew:                           3.383   Prob(JB):                         0.00\n",
      "Kurtosis:                      29.544   Cond. No.                     1.02e+03\n",
      "==============================================================================\n",
      "\n",
      "Notes:\n",
      "[1] Standard Errors assume that the covariance matrix of the errors is correctly specified.\n",
      "[2] The condition number is large, 1.02e+03. This might indicate that there are\n",
      "strong multicollinearity or other numerical problems.\n"
     ]
    }
   ],
   "source": [
    "full_health_data = pd.read_csv(\"data.csv\", header=0, sep=\",\")\n",
    "\n",
    "model = smf.ols('Calorie_Burnage ~ Average_Pulse + Duration', data = full_health_data)\n",
    "\n",
    "results = model.fit()\n",
    "\n",
    "print(results.summary())"
   ]
  },
  {
   "cell_type": "markdown",
   "id": "20e793d6",
   "metadata": {},
   "source": [
    "### Example Explained:\n",
    "- Import the library statsmodels.formula.api as smf. Statsmodels is a statistical library in Python.\n",
    "- Use the full_health_data set.\n",
    "- Create a model based on Ordinary Least Squares with smf.ols(). Notice that the explanatory variable must be written first in the parenthesis. Use the full_health_data data set.\n",
    "- By calling .fit(), you obtain the variable results. This holds a lot of information about the regression model.\n",
    "- Call summary() to get the table with the results of linear regression."
   ]
  },
  {
   "cell_type": "markdown",
   "id": "33fa8562",
   "metadata": {},
   "source": [
    "## Define the Linear Regression Function in Python\n",
    "Define the linear regression function in Python to perform predictions.\n",
    "\n",
    "What is Calorie_Burnage if:\n",
    "\n",
    "- Average pulse is 110 and duration of the training session is 60 minutes?\n",
    "- Average pulse is 140 and duration of the training session is 45 minutes?\n",
    "- Average pulse is 175 and duration of the training session is 20 minutes?"
   ]
  },
  {
   "cell_type": "code",
   "execution_count": 4,
   "id": "4a0b4906",
   "metadata": {},
   "outputs": [
    {
     "name": "stdout",
     "output_type": "stream",
     "text": [
      "364.7296\n",
      "372.1636\n",
      "337.01110000000006\n"
     ]
    }
   ],
   "source": [
    "def Predict_Calorie_Burnage(Average_Pulse, Duration):\n",
    " return(3.1695*Average_Pulse + 5.8434 * Duration - 334.5194)\n",
    "\n",
    "print(Predict_Calorie_Burnage(110,60))\n",
    "print(Predict_Calorie_Burnage(140,45))\n",
    "print(Predict_Calorie_Burnage(175,20))"
   ]
  },
  {
   "cell_type": "markdown",
   "id": "8e1222fc",
   "metadata": {},
   "source": [
    "The Answers:\n",
    "\n",
    "- Average pulse is 110 and duration of the training session is 60 minutes = 365 Calories\n",
    "- Average pulse is 140 and duration of the training session is 45 minutes = 372 Calories\n",
    "- Average pulse is 175 and duration of the training session is 20 minutes = 337 Calories"
   ]
  },
  {
   "cell_type": "markdown",
   "id": "d49302d3",
   "metadata": {},
   "source": [
    "## Access the Coefficients\n",
    "Look at the coefficients:\n",
    "\n",
    "- Calorie_Burnage increases with 3.17 if Average_Pulse increases by one.\n",
    "- Calorie_Burnage increases with 5.84 if Duration increases by one."
   ]
  },
  {
   "cell_type": "markdown",
   "id": "0116e4a3",
   "metadata": {},
   "source": [
    "## Access the P-Value\n",
    "Look at the P-value for each coefficient.\n",
    "\n",
    "- P-value is 0.00 for Average_Pulse, Duration and the Intercept.\n",
    "- The P-value is statistically significant for all of the variables, as it is less than 0.05.\n",
    "\n",
    "So here we can conclude that Average_Pulse and Duration has a relationship with Calorie_Burnage."
   ]
  },
  {
   "cell_type": "markdown",
   "id": "8d173858",
   "metadata": {},
   "source": [
    "## Adjusted R-Squared\n",
    "There is a problem with R-squared if we have more than one explanatory variable.\n",
    "\n",
    "R-squared will almost always increase if we add more variables, and will never decrease.\n",
    "\n",
    "This is because we are adding more data points around the linear regression function.\n",
    "\n",
    "If we add random variables that does not affect Calorie_Burnage, we risk to falsely conclude that the linear regression function is a good fit. Adjusted R-squared adjusts for this problem.\n",
    "\n",
    "It is therefore better to look at the adjusted R-squared value if we have more than one explanatory variable.\n",
    "\n",
    "The Adjusted R-squared is 0.814.\n",
    "\n",
    "The value of R-Squared is always between 0 to 1 (0% to 100%).\n",
    "\n",
    "- A high R-Squared value means that many data points are close to the linear regression function \n",
    "line.\n",
    "- A low R-Squared value means that the linear regression function line does not fit the data well.\n",
    "\n",
    "Conclusion: The model fits the data point well!"
   ]
  }
 ],
 "metadata": {
  "kernelspec": {
   "display_name": "mymlvenv",
   "language": "python",
   "name": "python3"
  },
  "language_info": {
   "codemirror_mode": {
    "name": "ipython",
    "version": 3
   },
   "file_extension": ".py",
   "mimetype": "text/x-python",
   "name": "python",
   "nbconvert_exporter": "python",
   "pygments_lexer": "ipython3",
   "version": "3.12.1"
  }
 },
 "nbformat": 4,
 "nbformat_minor": 5
}
