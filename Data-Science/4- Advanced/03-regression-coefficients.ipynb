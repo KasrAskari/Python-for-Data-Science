{
 "cells": [
  {
   "cell_type": "code",
   "execution_count": null,
   "id": "3629c393",
   "metadata": {},
   "outputs": [],
   "source": [
    "def Predict_Calorie_Burnage(Average_Pulse):\n",
    "    return(0.3296 * Average_Pulse + 346.8662)"
   ]
  },
  {
   "cell_type": "code",
   "execution_count": 2,
   "id": "5a9acb99",
   "metadata": {},
   "outputs": [
    {
     "name": "stdout",
     "output_type": "stream",
     "text": [
      "386.4182\n",
      "389.7142\n",
      "396.3062\n",
      "406.1942\n"
     ]
    }
   ],
   "source": [
    "print(Predict_Calorie_Burnage(120))\n",
    "print(Predict_Calorie_Burnage(130))\n",
    "print(Predict_Calorie_Burnage(150))\n",
    "print(Predict_Calorie_Burnage(180))"
   ]
  }
 ],
 "metadata": {
  "kernelspec": {
   "display_name": "mymlvenv",
   "language": "python",
   "name": "python3"
  },
  "language_info": {
   "codemirror_mode": {
    "name": "ipython",
    "version": 3
   },
   "file_extension": ".py",
   "mimetype": "text/x-python",
   "name": "python",
   "nbconvert_exporter": "python",
   "pygments_lexer": "ipython3",
   "version": "3.12.1"
  }
 },
 "nbformat": 4,
 "nbformat_minor": 5
}
