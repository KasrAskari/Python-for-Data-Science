{
 "cells": [
  {
   "cell_type": "markdown",
   "id": "a54754f0",
   "metadata": {},
   "source": [
    "## The P-value\n",
    "The P-value is a statistical number to conclude if there is a relationship between Average_Pulse and Calorie_Burnage.\n",
    "\n",
    "We test if the true value of the coefficient is equal to zero (no relationship). The statistical test for this is called Hypothesis testing.\n",
    "\n",
    "- A low P-value (< 0.05) means that the coefficient is likely not to equal zero.\n",
    "- A high P-value (> 0.05) means that we cannot conclude that the explanatory variable affects the dependent variable (here: if Average_Pulse affects Calorie_Burnage).\n",
    "- A high P-value is also called an insignificant P-value."
   ]
  },
  {
   "cell_type": "markdown",
   "id": "296077bb",
   "metadata": {},
   "source": [
    "## Hypothesis Testing\n",
    "\n",
    "Hypothesis testing is a statistical procedure to test if your results are valid.\n",
    "\n",
    "In our example, we are testing if the true coefficient of Average_Pulse and the intercept is equal to zero.\n",
    "\n",
    "Hypothesis test has two statements. The null hypothesis and the alternative hypothesis.\n",
    "\n",
    "- The null hypothesis can be shortly written as H0\n",
    "- The alternative hypothesis can be shortly written as HA"
   ]
  },
  {
   "cell_type": "markdown",
   "id": "b204bcb0",
   "metadata": {},
   "source": [
    "## Hypothesis Testing and P-value\n",
    "The null hypothesis can either be rejected or not.\n",
    "\n",
    "If we reject the null hypothesis, we conclude that it exist a relationship between Average_Pulse and Calorie_Burnage. The P-value is used for this conclusion.\n",
    "\n",
    "A common threshold of the P-value is 0.05.\n",
    "\n",
    "**Note**: A P-value of 0.05 means that 5% of the times, we will falsely reject the null hypothesis. It means that we accept that 5% of the times, we might falsely have concluded a relationship.\n",
    "\n",
    "If the P-value is lower than 0.05, we can reject the null hypothesis and conclude that it exist a relationship between the variables.\n",
    "\n",
    "However, the P-value of Average_Pulse is 0.824. So, we cannot conclude a relationship between Average_Pulse and Calorie_Burnage.\n",
    "\n",
    "It means that there is a 82.4% chance that the true coefficient of Average_Pulse is zero.\n",
    "\n",
    "The intercept is used to adjust the regression function's ability to predict more precisely. It is therefore uncommon to interpret the P-value of the intercept."
   ]
  },
  {
   "cell_type": "code",
   "execution_count": 4,
   "id": "ea8a588d",
   "metadata": {},
   "outputs": [
    {
     "name": "stdout",
     "output_type": "stream",
     "text": [
      "                            OLS Regression Results                            \n",
      "==============================================================================\n",
      "Dep. Variable:             Exam_Score   R-squared:                       0.982\n",
      "Model:                            OLS   Adj. R-squared:                  0.979\n",
      "Method:                 Least Squares   F-statistic:                     425.0\n",
      "Date:                Wed, 23 Jul 2025   Prob (F-statistic):           3.21e-08\n",
      "Time:                        12:52:12   Log-Likelihood:                -20.475\n",
      "No. Observations:                  10   AIC:                             44.95\n",
      "Df Residuals:                       8   BIC:                             45.55\n",
      "Df Model:                           1                                         \n",
      "Covariance Type:            nonrobust                                         \n",
      "=================================================================================\n",
      "                    coef    std err          t      P>|t|      [0.025      0.975]\n",
      "---------------------------------------------------------------------------------\n",
      "const            47.3333      1.432     33.055      0.000      44.031      50.635\n",
      "Hours_Studied     4.7576      0.231     20.615      0.000       4.225       5.290\n",
      "==============================================================================\n",
      "Omnibus:                        3.631   Durbin-Watson:                   1.437\n",
      "Prob(Omnibus):                  0.163   Jarque-Bera (JB):                1.868\n",
      "Skew:                           1.052   Prob(JB):                        0.393\n",
      "Kurtosis:                       2.757   Cond. No.                         13.7\n",
      "==============================================================================\n",
      "\n",
      "Notes:\n",
      "[1] Standard Errors assume that the covariance matrix of the errors is correctly specified.\n"
     ]
    },
    {
     "name": "stderr",
     "output_type": "stream",
     "text": [
      "c:\\Users\\Asus\\ML-sandbox\\mymlvenv\\Lib\\site-packages\\scipy\\stats\\_axis_nan_policy.py:418: UserWarning: `kurtosistest` p-value may be inaccurate with fewer than 20 observations; only n=10 observations were given.\n",
      "  return hypotest_fun_in(*args, **kwds)\n"
     ]
    }
   ],
   "source": [
    "import pandas as pd\n",
    "import statsmodels.api as sm\n",
    "\n",
    "data = {\n",
    "    'Hours_Studied': [1, 2, 3, 4, 5, 6, 7, 8, 9, 10],\n",
    "    'Exam_Score':     [50, 55, 65, 70, 70, 75, 80, 85, 90, 95]\n",
    "}\n",
    "\n",
    "df = pd.DataFrame(data)\n",
    "\n",
    "X = sm.add_constant(df['Hours_Studied'])\n",
    "y = df['Exam_Score']\n",
    "\n",
    "model = sm.OLS(y, X).fit()\n",
    "\n",
    "print(model.summary())"
   ]
  }
 ],
 "metadata": {
  "kernelspec": {
   "display_name": "mymlvenv",
   "language": "python",
   "name": "python3"
  },
  "language_info": {
   "codemirror_mode": {
    "name": "ipython",
    "version": 3
   },
   "file_extension": ".py",
   "mimetype": "text/x-python",
   "name": "python",
   "nbconvert_exporter": "python",
   "pygments_lexer": "ipython3",
   "version": "3.12.1"
  }
 },
 "nbformat": 4,
 "nbformat_minor": 5
}
