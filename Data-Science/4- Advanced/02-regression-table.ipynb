{
 "cells": [
  {
   "cell_type": "markdown",
   "id": "46c8b1a0",
   "metadata": {},
   "source": [
    "## Regression Table\n",
    "\n",
    "The output from linear regression can be summarized in a regression table.\n",
    "\n",
    "The content of the table includes:\n",
    "\n",
    "- Information about the model\n",
    "- Coefficients of the linear regression function\n",
    "- Regression statistics\n",
    "- Statistics of the coefficients from the linear regression function\n",
    "- Other information that we will not cover in this module"
   ]
  },
  {
   "cell_type": "code",
   "execution_count": 3,
   "id": "d5bb3dae",
   "metadata": {},
   "outputs": [],
   "source": [
    "import pandas as pd\n",
    "import statsmodels.formula.api as smf"
   ]
  },
  {
   "cell_type": "code",
   "execution_count": 4,
   "id": "971f6f22",
   "metadata": {},
   "outputs": [],
   "source": [
    "full_health_data = pd.read_csv(\"data.csv\", header=0, sep=\",\")"
   ]
  },
  {
   "cell_type": "code",
   "execution_count": 7,
   "id": "7ec232c6",
   "metadata": {},
   "outputs": [],
   "source": [
    "model = smf.ols('Calorie_Burnage ~ Average_Pulse', data = full_health_data)\n",
    "\n",
    "results = model.fit()"
   ]
  },
  {
   "cell_type": "code",
   "execution_count": 8,
   "id": "56b0b903",
   "metadata": {},
   "outputs": [
    {
     "name": "stdout",
     "output_type": "stream",
     "text": [
      "                            OLS Regression Results                            \n",
      "==============================================================================\n",
      "Dep. Variable:        Calorie_Burnage   R-squared:                       0.000\n",
      "Model:                            OLS   Adj. R-squared:                 -0.006\n",
      "Method:                 Least Squares   F-statistic:                   0.04975\n",
      "Date:                Mon, 21 Jul 2025   Prob (F-statistic):              0.824\n",
      "Time:                        13:08:47   Log-Likelihood:                -1145.8\n",
      "No. Observations:                 163   AIC:                             2296.\n",
      "Df Residuals:                     161   BIC:                             2302.\n",
      "Df Model:                           1                                         \n",
      "Covariance Type:            nonrobust                                         \n",
      "=================================================================================\n",
      "                    coef    std err          t      P>|t|      [0.025      0.975]\n",
      "---------------------------------------------------------------------------------\n",
      "Intercept       346.8662    160.615      2.160      0.032      29.682     664.050\n",
      "Average_Pulse     0.3296      1.478      0.223      0.824      -2.588       3.247\n",
      "==============================================================================\n",
      "Omnibus:                      124.542   Durbin-Watson:                   1.620\n",
      "Prob(Omnibus):                  0.000   Jarque-Bera (JB):              938.541\n",
      "Skew:                           2.927   Prob(JB):                    1.58e-204\n",
      "Kurtosis:                      13.195   Cond. No.                         811.\n",
      "==============================================================================\n",
      "\n",
      "Notes:\n",
      "[1] Standard Errors assume that the covariance matrix of the errors is correctly specified.\n"
     ]
    }
   ],
   "source": [
    "print(results.summary())"
   ]
  }
 ],
 "metadata": {
  "kernelspec": {
   "display_name": "mymlvenv",
   "language": "python",
   "name": "python3"
  },
  "language_info": {
   "codemirror_mode": {
    "name": "ipython",
    "version": 3
   },
   "file_extension": ".py",
   "mimetype": "text/x-python",
   "name": "python",
   "nbconvert_exporter": "python",
   "pygments_lexer": "ipython3",
   "version": "3.12.1"
  }
 },
 "nbformat": 4,
 "nbformat_minor": 5
}
