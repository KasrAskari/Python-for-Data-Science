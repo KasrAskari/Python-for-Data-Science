{
 "cells": [
  {
   "cell_type": "code",
   "execution_count": 1,
   "id": "69f8581a",
   "metadata": {},
   "outputs": [],
   "source": [
    "import pandas as pd"
   ]
  },
  {
   "cell_type": "markdown",
   "id": "712eb410",
   "metadata": {},
   "source": [
    "### Extract and Read Data With Pandas\n",
    "Before data can be analyzed, it must be imported/extracted.\n",
    "\n",
    "In the example below, we show you how to import data using Pandas in Python.\n",
    "\n",
    "We use the read_csv() function to import a CSV file with the health data:"
   ]
  },
  {
   "cell_type": "markdown",
   "id": "8fd65868",
   "metadata": {},
   "source": [
    "- Import the Pandas library\n",
    "\n",
    "- Name the data frame as health_data.\n",
    "\n",
    "- header=0 means that the headers for the variable names are to be found in the first row (note that 0 means the first row in Python)\n",
    "\n",
    "- sep=\",\" means that \",\" is used as the separator between the values. This is because we are using the file type .csv (comma separated values)"
   ]
  },
  {
   "cell_type": "code",
   "execution_count": 2,
   "id": "bb3141df",
   "metadata": {},
   "outputs": [
    {
     "name": "stdout",
     "output_type": "stream",
     "text": [
      "    Duration Average_Pulse Max_Pulse  Calorie_Burnage  Hours_Work  Hours_Sleep\n",
      "0       30.0            80       120            240.0        10.0          7.0\n",
      "1       45.0            85       120            250.0        10.0          7.0\n",
      "2       45.0            90       130            260.0         8.0          7.0\n",
      "3       60.0            95       130            270.0         8.0          7.0\n",
      "4       60.0           100       140            280.0         0.0          7.0\n",
      "5        NaN           NaN       NaN              NaN         NaN          NaN\n",
      "6       60.0           105       140            290.0         7.0          8.0\n",
      "7       60.0           110       145            300.0         7.0          8.0\n",
      "8       45.0           NaN        AF              NaN         8.0          8.0\n",
      "9       45.0           115       145            310.0         8.0          8.0\n",
      "10      60.0           120       150            320.0         0.0          8.0\n",
      "11      60.0         9 000       130              NaN         NaN          8.0\n",
      "12      45.0           125       150            330.0         8.0          8.0\n"
     ]
    }
   ],
   "source": [
    "health_data = pd.read_csv(\"data.csv\", header=0, sep=\",\")\n",
    "\n",
    "print(health_data)"
   ]
  },
  {
   "cell_type": "code",
   "execution_count": 3,
   "id": "99addea4",
   "metadata": {},
   "outputs": [
    {
     "name": "stdout",
     "output_type": "stream",
     "text": [
      "   Duration Average_Pulse Max_Pulse  Calorie_Burnage  Hours_Work  Hours_Sleep\n",
      "0      30.0            80       120            240.0        10.0          7.0\n",
      "1      45.0            85       120            250.0        10.0          7.0\n",
      "2      45.0            90       130            260.0         8.0          7.0\n",
      "3      60.0            95       130            270.0         8.0          7.0\n",
      "4      60.0           100       140            280.0         0.0          7.0\n"
     ]
    }
   ],
   "source": [
    "health_data = pd.read_csv(\"data.csv\", header=0, sep=\",\")\n",
    "\n",
    "print(health_data.head())"
   ]
  },
  {
   "cell_type": "markdown",
   "id": "770a241a",
   "metadata": {},
   "source": [
    "### Remove Blank Rows\n",
    "\n",
    "We see that the non-numeric values (9 000 and AF) are in the same rows with missing values.\n",
    "\n",
    "Solution: We can remove the rows with missing observations to fix this problem.\n",
    "\n",
    "When we load a data set using Pandas, all blank cells are automatically converted into \"NaN\" values.\n",
    "\n",
    "So, removing the NaN cells gives us a clean data set that can be analyzed.\n",
    "\n",
    "We can use the dropna() function to remove the NaNs. axis=0 means that we want to remove all rows that have a NaN value"
   ]
  },
  {
   "cell_type": "code",
   "execution_count": 4,
   "id": "73762458",
   "metadata": {},
   "outputs": [
    {
     "name": "stdout",
     "output_type": "stream",
     "text": [
      "    Duration Average_Pulse Max_Pulse  Calorie_Burnage  Hours_Work  Hours_Sleep\n",
      "0       30.0            80       120            240.0        10.0          7.0\n",
      "1       45.0            85       120            250.0        10.0          7.0\n",
      "2       45.0            90       130            260.0         8.0          7.0\n",
      "3       60.0            95       130            270.0         8.0          7.0\n",
      "4       60.0           100       140            280.0         0.0          7.0\n",
      "6       60.0           105       140            290.0         7.0          8.0\n",
      "7       60.0           110       145            300.0         7.0          8.0\n",
      "9       45.0           115       145            310.0         8.0          8.0\n",
      "10      60.0           120       150            320.0         0.0          8.0\n",
      "12      45.0           125       150            330.0         8.0          8.0\n"
     ]
    }
   ],
   "source": [
    "health_data = pd.read_csv(\"data.csv\", header=0, sep=\",\")\n",
    "\n",
    "health_data.dropna(axis=0, inplace=True)\n",
    "\n",
    "print(health_data)"
   ]
  },
  {
   "cell_type": "markdown",
   "id": "0b8801fd",
   "metadata": {},
   "source": [
    "### Data Categories\n",
    "\n",
    "To analyze data, we also need to know the types of data we are dealing with.\n",
    "\n",
    "Data can be split into two main categories:\n",
    "\n",
    "- **1- Quantitative Data** - Can be expressed as a number or can be quantified. Can be divided into two sub-categories:\n",
    "    - Discrete data: Numbers are counted as \"whole\", e.g. number of students in a class, number of goals in a soccer game\n",
    "\n",
    "    - Continuous data: Numbers can be of infinite precision. e.g. weight of a person, shoe size, temperature\n",
    "\n",
    "\n",
    "- **2- Qualitative Data** - Cannot be expressed as a number and cannot be quantified. Can be divided into two sub-categories:\n",
    "    - Nominal data: Example: gender, hair color, ethnicity\n",
    "    - Ordinal data: Example: school grades (A, B, C), economic status (low, middle, high)"
   ]
  },
  {
   "cell_type": "markdown",
   "id": "db01f8c6",
   "metadata": {},
   "source": [
    "### Data Types"
   ]
  },
  {
   "cell_type": "code",
   "execution_count": 5,
   "id": "c723adbc",
   "metadata": {},
   "outputs": [
    {
     "name": "stdout",
     "output_type": "stream",
     "text": [
      "<class 'pandas.core.frame.DataFrame'>\n",
      "RangeIndex: 13 entries, 0 to 12\n",
      "Data columns (total 6 columns):\n",
      " #   Column           Non-Null Count  Dtype  \n",
      "---  ------           --------------  -----  \n",
      " 0   Duration         12 non-null     float64\n",
      " 1   Average_Pulse    11 non-null     object \n",
      " 2   Max_Pulse        12 non-null     object \n",
      " 3   Calorie_Burnage  10 non-null     float64\n",
      " 4   Hours_Work       11 non-null     float64\n",
      " 5   Hours_Sleep      12 non-null     float64\n",
      "dtypes: float64(4), object(2)\n",
      "memory usage: 756.0+ bytes\n",
      "None\n"
     ]
    }
   ],
   "source": [
    "health_data = pd.read_csv(\"data.csv\", header=0, sep=\",\")\n",
    "\n",
    "print(health_data.info())"
   ]
  },
  {
   "cell_type": "code",
   "execution_count": 7,
   "id": "be80f7bc",
   "metadata": {},
   "outputs": [
    {
     "name": "stdout",
     "output_type": "stream",
     "text": [
      "<class 'pandas.core.frame.DataFrame'>\n",
      "Index: 10 entries, 0 to 12\n",
      "Data columns (total 6 columns):\n",
      " #   Column           Non-Null Count  Dtype  \n",
      "---  ------           --------------  -----  \n",
      " 0   Duration         10 non-null     float64\n",
      " 1   Average_Pulse    10 non-null     float64\n",
      " 2   Max_Pulse        10 non-null     float64\n",
      " 3   Calorie_Burnage  10 non-null     float64\n",
      " 4   Hours_Work       10 non-null     float64\n",
      " 5   Hours_Sleep      10 non-null     float64\n",
      "dtypes: float64(6)\n",
      "memory usage: 560.0 bytes\n",
      "None\n"
     ]
    }
   ],
   "source": [
    "health_data = pd.read_csv(\"data.csv\", header=0, sep=\",\")\n",
    "health_data.dropna(axis=0, inplace=True)\n",
    "\n",
    "health_data[\"Average_Pulse\"] = health_data['Average_Pulse'].astype(float)\n",
    "health_data[\"Max_Pulse\"] = health_data['Max_Pulse'].astype(float)\n",
    "\n",
    "print(health_data.info())"
   ]
  },
  {
   "cell_type": "markdown",
   "id": "a442b1f7",
   "metadata": {},
   "source": [
    "### Analyze the Data\n",
    "\n",
    "When we have cleaned the data set, we can start analyzing the data.\n",
    "\n",
    "We can use the describe() function in Python to summarize data:"
   ]
  },
  {
   "cell_type": "code",
   "execution_count": 9,
   "id": "53ca5fc4",
   "metadata": {},
   "outputs": [
    {
     "name": "stdout",
     "output_type": "stream",
     "text": [
      "        Duration  Calorie_Burnage  Hours_Work  Hours_Sleep\n",
      "count  12.000000        10.000000   11.000000    12.000000\n",
      "mean   51.250000       285.000000    6.727273     7.583333\n",
      "std    10.028369        30.276504    3.466725     0.514929\n",
      "min    30.000000       240.000000    0.000000     7.000000\n",
      "25%    45.000000       262.500000    7.000000     7.000000\n",
      "50%    52.500000       285.000000    8.000000     8.000000\n",
      "75%    60.000000       307.500000    8.000000     8.000000\n",
      "max    60.000000       330.000000   10.000000     8.000000\n"
     ]
    }
   ],
   "source": [
    "health_data = pd.read_csv(\"data.csv\", header=0, sep=\",\")\n",
    "\n",
    "pd.set_option('display.max_columns', None)\n",
    "\n",
    "print(health_data.describe())"
   ]
  },
  {
   "cell_type": "markdown",
   "id": "c90b9ab5",
   "metadata": {},
   "source": [
    "- Count - Counts the number of observations\n",
    "- Mean - The average value\n",
    "- Std - Standard deviation (explained in the statistics chapter)\n",
    "- Min - The lowest value\n",
    "- 25%, 50% and 75% are percentiles (explained in the statistics chapter)\n",
    "- Max - The highest value"
   ]
  }
 ],
 "metadata": {
  "kernelspec": {
   "display_name": "mymlvenv",
   "language": "python",
   "name": "python3"
  },
  "language_info": {
   "codemirror_mode": {
    "name": "ipython",
    "version": 3
   },
   "file_extension": ".py",
   "mimetype": "text/x-python",
   "name": "python",
   "nbconvert_exporter": "python",
   "pygments_lexer": "ipython3",
   "version": "3.12.1"
  }
 },
 "nbformat": 4,
 "nbformat_minor": 5
}
