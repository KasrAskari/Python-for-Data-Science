{
 "cells": [
  {
   "cell_type": "markdown",
   "id": "f6b81ef8",
   "metadata": {},
   "source": [
    "### Create a DataFrame with Pandas\n"
   ]
  },
  {
   "cell_type": "code",
   "execution_count": 1,
   "id": "6d5bf360",
   "metadata": {},
   "outputs": [],
   "source": [
    "import pandas as pd"
   ]
  },
  {
   "cell_type": "markdown",
   "id": "507b9313",
   "metadata": {},
   "source": [
    "- Import the Pandas library as pd\n",
    "- Define data with column and rows in a variable named d\n",
    "- Create a data frame using the function pd.DataFrame()\n",
    "- The data frame contains 3 columns and 5 rows\n",
    "- Print the data frame output with the print() function"
   ]
  },
  {
   "cell_type": "code",
   "execution_count": 2,
   "id": "93032e18",
   "metadata": {},
   "outputs": [
    {
     "name": "stdout",
     "output_type": "stream",
     "text": [
      "   col1  col2  col3\n",
      "0     1     4     7\n",
      "1     2     5     8\n",
      "2     3     6    12\n",
      "3     4     9     1\n",
      "4     5     5    11\n"
     ]
    }
   ],
   "source": [
    "d = {'col1': [1, 2, 3, 4, 5], 'col2': [4, 5, 6, 9, 5], 'col3': [7, 8, 12, 1, 11]}\n",
    "\n",
    "df = pd.DataFrame(data=d)\n",
    "\n",
    "print(df)"
   ]
  },
  {
   "cell_type": "markdown",
   "id": "1db7e3a0",
   "metadata": {},
   "source": [
    "### Count the number of columns"
   ]
  },
  {
   "cell_type": "code",
   "execution_count": 4,
   "id": "fdb2af97",
   "metadata": {},
   "outputs": [
    {
     "name": "stdout",
     "output_type": "stream",
     "text": [
      "Number of columns:\n",
      "3\n"
     ]
    }
   ],
   "source": [
    "d = {'col1': [1, 2, 3, 4, 5], 'col2': [4, 5, 6, 9, 5], 'col3': [7, 8, 12, 1, 11]}\n",
    "\n",
    "df = pd.DataFrame(data=d)\n",
    "count_column = df.shape[1]\n",
    "\n",
    "print(\"Number of columns:\")\n",
    "print(count_column)"
   ]
  },
  {
   "cell_type": "markdown",
   "id": "17e1b1b5",
   "metadata": {},
   "source": [
    "### Count the number of rows"
   ]
  },
  {
   "cell_type": "code",
   "execution_count": 6,
   "id": "4110869d",
   "metadata": {},
   "outputs": [
    {
     "name": "stdout",
     "output_type": "stream",
     "text": [
      "Number of rows:\n",
      "5\n"
     ]
    }
   ],
   "source": [
    "d = {'col1': [1, 2, 3, 4, 5], 'col2': [4, 5, 6, 9, 5], 'col3': [7, 8, 12, 1, 11]}\n",
    "\n",
    "df = pd.DataFrame(data=d)\n",
    "count_row = df.shape[0]\n",
    "\n",
    "print(\"Number of rows:\")\n",
    "print(count_row)"
   ]
  }
 ],
 "metadata": {
  "kernelspec": {
   "display_name": "mymlvenv",
   "language": "python",
   "name": "python3"
  },
  "language_info": {
   "codemirror_mode": {
    "name": "ipython",
    "version": 3
   },
   "file_extension": ".py",
   "mimetype": "text/x-python",
   "name": "python",
   "nbconvert_exporter": "python",
   "pygments_lexer": "ipython3",
   "version": "3.12.1"
  }
 },
 "nbformat": 4,
 "nbformat_minor": 5
}
